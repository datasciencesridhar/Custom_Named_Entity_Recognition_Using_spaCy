{
 "cells": [
  {
   "cell_type": "code",
   "execution_count": 29,
   "metadata": {},
   "outputs": [
    {
     "name": "stdout",
     "output_type": "stream",
     "text": [
      "Most District reports indicate somewhat stronger regional economic\n",
      "activity on balance in December and early January than at the time of the last\n",
      "reports in November, with much of the growth centered in the retail and\n",
      "industrial sectors. It would appear, on the basis of these reports, that the\n",
      "national economy gained momentum in recent weeks as con@gmer spending\n",
      "strengthened, manufacturing activity cont@™Med to rise, and producers\n",
      "\n",
      "scheduled more investment in plant and equipment.\n"
     ]
    }
   ],
   "source": [
    "filename = './sample6.png'\n",
    "text = image_to_string(Image.open(filename))\n",
    "text_original = str(text)\n",
    "print (text_original)"
   ]
  },
  {
   "cell_type": "code",
   "execution_count": null,
   "metadata": {},
   "outputs": [
    {
     "name": "stdout",
     "output_type": "stream",
     "text": [
      "showing info https://raw.githubusercontent.com/nltk/nltk_data/gh-pages/index.xml\n"
     ]
    }
   ],
   "source": [
    "import nltk\n",
    "nltk.download()"
   ]
  },
  {
   "cell_type": "code",
   "execution_count": 17,
   "metadata": {},
   "outputs": [],
   "source": [
    "# cleanup text\n",
    "rep = { '\\n': ' ', '\\\\': ' ', '\\\"': '\"', '-': ' ', '\"': ' \" ', \n",
    "        '\"': ' \" ', '\"': ' \" ', ',':' , ', '.':' . ', '!':' ! ', \n",
    "        '?':' ? ', \"n't\": \" not\" , \"'ll\": \" will\", '*':' * ', \n",
    "        '(': ' ( ', ')': ' ) ', \"s'\": \"s '\"}\n",
    "rep = dict((re.escape(k), v) for k, v in rep.items()) \n",
    "pattern = re.compile(\"|\".join(rep.keys()))\n",
    "text = pattern.sub(lambda m: rep[re.escape(m.group(0))], text)\n",
    "\n",
    "def get_personslist(text):\n",
    "    personslist=[]\n",
    "    for sent in nltk.sent_tokenize(text):\n",
    "        for chunk in nltk.ne_chunk(nltk.pos_tag(nltk.word_tokenize(sent))):\n",
    "            if isinstance(chunk, nltk.tree.Tree) and chunk.label() == 'PERSON':\n",
    "                personslist.insert(0, (chunk.leaves()[0][0]))\n",
    "    return list(set(personslist))\n",
    "personslist = get_personslist(text)\n",
    "ignorewords = personslist + [\"!\", \",\", \".\", \"\\\"\", \"?\", '(', ')', '*', '']"
   ]
  },
  {
   "cell_type": "code",
   "execution_count": 18,
   "metadata": {},
   "outputs": [],
   "source": [
    "# using enchant.checker.SpellChecker, identify incorrect words\n",
    "d = SpellChecker(\"en_US\")\n",
    "words = text.split()\n",
    "incorrectwords = [w for w in words if not d.check(w) and w not in ignorewords]"
   ]
  },
  {
   "cell_type": "code",
   "execution_count": 19,
   "metadata": {},
   "outputs": [],
   "source": [
    "# using enchant.checker.SpellChecker, get suggested replacements\n",
    "suggestedwords = [d.suggest(w) for w in incorrectwords]"
   ]
  },
  {
   "cell_type": "code",
   "execution_count": 20,
   "metadata": {},
   "outputs": [
    {
     "name": "stdout",
     "output_type": "stream",
     "text": [
      "Most District reports indicate somewhat stronger regional economic activity on balance in December and early January than at the time of the last reports in November     ,      with much of the growth centered in the retail and industrial sectors     .      It would appear     ,      on the basis of these reports     ,      that the national economy gained momentum in recent weeks as [MASK] spending strengthened     ,      manufacturing activity [MASK] to rise     ,      and producers  scheduled more investment in plant and equipment     .     \n"
     ]
    }
   ],
   "source": [
    "# replace incorrect words with [MASK]\n",
    "for w in incorrectwords:\n",
    "    text = text.replace(w, '[MASK]')\n",
    "    text_original = text_original.replace(w, '[MASK]')\n",
    "    \n",
    "print(text)"
   ]
  },
  {
   "cell_type": "code",
   "execution_count": 21,
   "metadata": {},
   "outputs": [
    {
     "name": "stderr",
     "output_type": "stream",
     "text": [
      "100%|██████████| 231508/231508 [00:01<00:00, 119600.25B/s]\n"
     ]
    }
   ],
   "source": [
    "# Load, train and predict using pre-trained model\n",
    "tokenizer = BertTokenizer.from_pretrained('bert-base-uncased')\n",
    "tokenized_text = tokenizer.tokenize(text)\n",
    "indexed_tokens = tokenizer.convert_tokens_to_ids(tokenized_text)\n",
    "MASKIDS = [i for i, e in enumerate(tokenized_text) if e == '[MASK]']"
   ]
  },
  {
   "cell_type": "code",
   "execution_count": 22,
   "metadata": {},
   "outputs": [],
   "source": [
    "# Create the segments tensors\n",
    "segs = [i for i, e in enumerate(tokenized_text) if e == \".\"]\n",
    "segments_ids=[]\n",
    "prev=-1\n",
    "for k, s in enumerate(segs):\n",
    "    segments_ids = segments_ids + [k] * (s-prev)\n",
    "    prev=s\n",
    "segments_ids = segments_ids + [len(segs)] * (len(tokenized_text) - len(segments_ids))\n",
    "segments_tensors = torch.tensor([segments_ids])\n"
   ]
  },
  {
   "cell_type": "code",
   "execution_count": 23,
   "metadata": {},
   "outputs": [],
   "source": [
    "# prepare Torch inputs \n",
    "tokens_tensor = torch.tensor([indexed_tokens])\n"
   ]
  },
  {
   "cell_type": "code",
   "execution_count": 24,
   "metadata": {},
   "outputs": [
    {
     "name": "stderr",
     "output_type": "stream",
     "text": [
      "100%|██████████| 407873900/407873900 [24:02<00:00, 282782.75B/s] \n"
     ]
    }
   ],
   "source": [
    "# Load pre-trained model\n",
    "model = BertForMaskedLM.from_pretrained('bert-base-uncased')\n"
   ]
  },
  {
   "cell_type": "code",
   "execution_count": 26,
   "metadata": {},
   "outputs": [],
   "source": [
    "# Predict all tokens\n",
    "with torch.no_grad():\n",
    "    predictions = model(tokens_tensor, segments_tensors)"
   ]
  },
  {
   "cell_type": "code",
   "execution_count": 27,
   "metadata": {},
   "outputs": [
    {
     "name": "stdout",
     "output_type": "stream",
     "text": [
      "Most District reports indicate somewhat stronger regional economic\n",
      "activity on balance in December and early January than at the time of the last\n",
      "reports in November, with much of the growth centered in the retail and\n",
      "industrial sectors. It would appear, on the basis of these reports, that the\n",
      "national economy gained momentum in recent weeks as consumer spending\n",
      "strengthened, manufacturing activity continued to rise, and producers\n",
      "\n",
      "scheduled more investment in plant and equipment.\n"
     ]
    }
   ],
   "source": [
    "#Predict words for mask using BERT; \n",
    "#refine prediction by matching with proposals from SpellChecker\n",
    "def predict_word(text_original, predictions, maskids):\n",
    "    pred_words=[]\n",
    "    for i in range(len(MASKIDS)):\n",
    "        preds = torch.topk(predictions[0, MASKIDS[i]], k=50) \n",
    "        indices = preds.indices.tolist()\n",
    "        list1 = tokenizer.convert_ids_to_tokens(indices)\n",
    "        list2 = suggestedwords[i]\n",
    "        simmax=0\n",
    "        predicted_token=''\n",
    "        for word1 in list1:\n",
    "            for word2 in list2:\n",
    "                s = SequenceMatcher(None, word1, word2).ratio()\n",
    "                if s is not None and s > simmax:\n",
    "                    simmax = s\n",
    "                    predicted_token = word1\n",
    "        text_original = text_original.replace('[MASK]', predicted_token, 1)\n",
    "    return text_original\n",
    "text_original = predict_word(text_original, predictions, MASKIDS)\n",
    "print (text_original)"
   ]
  },
  {
   "cell_type": "code",
   "execution_count": null,
   "metadata": {},
   "outputs": [],
   "source": []
  }
 ],
 "metadata": {
  "kernelspec": {
   "display_name": "Python 3",
   "language": "python",
   "name": "python3"
  },
  "language_info": {
   "codemirror_mode": {
    "name": "ipython",
    "version": 3
   },
   "file_extension": ".py",
   "mimetype": "text/x-python",
   "name": "python",
   "nbconvert_exporter": "python",
   "pygments_lexer": "ipython3",
   "version": "3.8.3"
  }
 },
 "nbformat": 4,
 "nbformat_minor": 4
}
