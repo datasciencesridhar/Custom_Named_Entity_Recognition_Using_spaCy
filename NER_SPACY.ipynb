{
 "cells": [
  {
   "cell_type": "code",
   "execution_count": 1,
   "metadata": {},
   "outputs": [],
   "source": [
    "import nltk\n",
    "from nltk.tokenize import word_tokenize\n",
    "from nltk.tag import pos_tag\n",
    "from nltk.chunk import ne_chunk"
   ]
  },
  {
   "cell_type": "code",
   "execution_count": 3,
   "metadata": {},
   "outputs": [],
   "source": [
    "sentence = 'Bengaluru: Karnataka Chief Minister BS Yediyurappa said he tested positive for the novel coronavirus according to a tweet he posted on Sunday. The Chief Minister, 77, said he is fine and is being hospitalised as a precaution on the recommendation of doctors. I have tested positive for coronavirus. Whilst I am fine, I am being hospitalised as a precaution on the recommendation of doctors. I request those who have come in contact with me recently to be observant and exercise self-quarantine'"
   ]
  },
  {
   "cell_type": "code",
   "execution_count": 4,
   "metadata": {},
   "outputs": [],
   "source": [
    "ne_tree = ne_chunk(pos_tag(word_tokenize(sentence)))"
   ]
  },
  {
   "cell_type": "code",
   "execution_count": 5,
   "metadata": {},
   "outputs": [
    {
     "name": "stdout",
     "output_type": "stream",
     "text": [
      "(S\n",
      "  (GPE Bengaluru/NN)\n",
      "  :/:\n",
      "  (PERSON Karnataka/NNP)\n",
      "  Chief/NNP\n",
      "  Minister/NNP\n",
      "  BS/NNP\n",
      "  (PERSON Yediyurappa/NNP)\n",
      "  said/VBD\n",
      "  he/PRP\n",
      "  tested/VBD\n",
      "  positive/JJ\n",
      "  for/IN\n",
      "  the/DT\n",
      "  novel/NN\n",
      "  coronavirus/NN\n",
      "  according/VBG\n",
      "  to/TO\n",
      "  a/DT\n",
      "  tweet/NN\n",
      "  he/PRP\n",
      "  posted/VBD\n",
      "  on/IN\n",
      "  Sunday/NNP\n",
      "  ./.\n",
      "  The/DT\n",
      "  Chief/JJ\n",
      "  Minister/NNP\n",
      "  ,/,\n",
      "  77/CD\n",
      "  ,/,\n",
      "  said/VBD\n",
      "  he/PRP\n",
      "  is/VBZ\n",
      "  fine/JJ\n",
      "  and/CC\n",
      "  is/VBZ\n",
      "  being/VBG\n",
      "  hospitalised/VBN\n",
      "  as/IN\n",
      "  a/DT\n",
      "  precaution/NN\n",
      "  on/IN\n",
      "  the/DT\n",
      "  recommendation/NN\n",
      "  of/IN\n",
      "  doctors/NNS\n",
      "  ./.\n",
      "  I/PRP\n",
      "  have/VBP\n",
      "  tested/VBN\n",
      "  positive/JJ\n",
      "  for/IN\n",
      "  coronavirus/NN\n",
      "  ./.\n",
      "  Whilst/NNP\n",
      "  I/PRP\n",
      "  am/VBP\n",
      "  fine/JJ\n",
      "  ,/,\n",
      "  I/PRP\n",
      "  am/VBP\n",
      "  being/VBG\n",
      "  hospitalised/VBN\n",
      "  as/IN\n",
      "  a/DT\n",
      "  precaution/NN\n",
      "  on/IN\n",
      "  the/DT\n",
      "  recommendation/NN\n",
      "  of/IN\n",
      "  doctors/NNS\n",
      "  ./.\n",
      "  I/PRP\n",
      "  request/VBP\n",
      "  those/DT\n",
      "  who/WP\n",
      "  have/VBP\n",
      "  come/VBN\n",
      "  in/IN\n",
      "  contact/NN\n",
      "  with/IN\n",
      "  me/PRP\n",
      "  recently/RB\n",
      "  to/TO\n",
      "  be/VB\n",
      "  observant/JJ\n",
      "  and/CC\n",
      "  exercise/JJ\n",
      "  self-quarantine/NN)\n"
     ]
    }
   ],
   "source": [
    "print(ne_tree)"
   ]
  },
  {
   "cell_type": "code",
   "execution_count": 6,
   "metadata": {},
   "outputs": [],
   "source": [
    "ex = 'Bengaluru: Karnataka Chief Minister BS Yediyurappa said he tested positive for the novel coronavirus according to a tweet he posted on Sunday. The Chief Minister, 77, said he is fine and is being hospitalised as a precaution on the recommendation of doctors. I have tested positive for coronavirus. Whilst I am fine, I am being hospitalised as a precaution on the recommendation of doctors. I request those who have come in contact with me recently to be observant and exercise self-quarantine'"
   ]
  },
  {
   "cell_type": "code",
   "execution_count": 7,
   "metadata": {},
   "outputs": [],
   "source": [
    "\n",
    "def preprocess(sent):\n",
    "    sent = nltk.word_tokenize(sent)\n",
    "    sent = nltk.pos_tag(sent)\n",
    "    return sent"
   ]
  },
  {
   "cell_type": "code",
   "execution_count": 8,
   "metadata": {},
   "outputs": [
    {
     "data": {
      "text/plain": [
       "[('Bengaluru', 'NN'),\n",
       " (':', ':'),\n",
       " ('Karnataka', 'NNP'),\n",
       " ('Chief', 'NNP'),\n",
       " ('Minister', 'NNP'),\n",
       " ('BS', 'NNP'),\n",
       " ('Yediyurappa', 'NNP'),\n",
       " ('said', 'VBD'),\n",
       " ('he', 'PRP'),\n",
       " ('tested', 'VBD'),\n",
       " ('positive', 'JJ'),\n",
       " ('for', 'IN'),\n",
       " ('the', 'DT'),\n",
       " ('novel', 'NN'),\n",
       " ('coronavirus', 'NN'),\n",
       " ('according', 'VBG'),\n",
       " ('to', 'TO'),\n",
       " ('a', 'DT'),\n",
       " ('tweet', 'NN'),\n",
       " ('he', 'PRP'),\n",
       " ('posted', 'VBD'),\n",
       " ('on', 'IN'),\n",
       " ('Sunday', 'NNP'),\n",
       " ('.', '.'),\n",
       " ('The', 'DT'),\n",
       " ('Chief', 'JJ'),\n",
       " ('Minister', 'NNP'),\n",
       " (',', ','),\n",
       " ('77', 'CD'),\n",
       " (',', ','),\n",
       " ('said', 'VBD'),\n",
       " ('he', 'PRP'),\n",
       " ('is', 'VBZ'),\n",
       " ('fine', 'JJ'),\n",
       " ('and', 'CC'),\n",
       " ('is', 'VBZ'),\n",
       " ('being', 'VBG'),\n",
       " ('hospitalised', 'VBN'),\n",
       " ('as', 'IN'),\n",
       " ('a', 'DT'),\n",
       " ('precaution', 'NN'),\n",
       " ('on', 'IN'),\n",
       " ('the', 'DT'),\n",
       " ('recommendation', 'NN'),\n",
       " ('of', 'IN'),\n",
       " ('doctors', 'NNS'),\n",
       " ('.', '.'),\n",
       " ('I', 'PRP'),\n",
       " ('have', 'VBP'),\n",
       " ('tested', 'VBN'),\n",
       " ('positive', 'JJ'),\n",
       " ('for', 'IN'),\n",
       " ('coronavirus', 'NN'),\n",
       " ('.', '.'),\n",
       " ('Whilst', 'NNP'),\n",
       " ('I', 'PRP'),\n",
       " ('am', 'VBP'),\n",
       " ('fine', 'JJ'),\n",
       " (',', ','),\n",
       " ('I', 'PRP'),\n",
       " ('am', 'VBP'),\n",
       " ('being', 'VBG'),\n",
       " ('hospitalised', 'VBN'),\n",
       " ('as', 'IN'),\n",
       " ('a', 'DT'),\n",
       " ('precaution', 'NN'),\n",
       " ('on', 'IN'),\n",
       " ('the', 'DT'),\n",
       " ('recommendation', 'NN'),\n",
       " ('of', 'IN'),\n",
       " ('doctors', 'NNS'),\n",
       " ('.', '.'),\n",
       " ('I', 'PRP'),\n",
       " ('request', 'VBP'),\n",
       " ('those', 'DT'),\n",
       " ('who', 'WP'),\n",
       " ('have', 'VBP'),\n",
       " ('come', 'VBN'),\n",
       " ('in', 'IN'),\n",
       " ('contact', 'NN'),\n",
       " ('with', 'IN'),\n",
       " ('me', 'PRP'),\n",
       " ('recently', 'RB'),\n",
       " ('to', 'TO'),\n",
       " ('be', 'VB'),\n",
       " ('observant', 'JJ'),\n",
       " ('and', 'CC'),\n",
       " ('exercise', 'JJ'),\n",
       " ('self-quarantine', 'NN')]"
      ]
     },
     "execution_count": 8,
     "metadata": {},
     "output_type": "execute_result"
    }
   ],
   "source": [
    "sent = preprocess(ex)\n",
    "sent"
   ]
  },
  {
   "cell_type": "code",
   "execution_count": 9,
   "metadata": {},
   "outputs": [],
   "source": [
    "pattern = 'NP: {<DT>?<JJ>*<NN>}'"
   ]
  },
  {
   "cell_type": "code",
   "execution_count": 10,
   "metadata": {},
   "outputs": [
    {
     "name": "stdout",
     "output_type": "stream",
     "text": [
      "(S\n",
      "  (NP Bengaluru/NN)\n",
      "  :/:\n",
      "  Karnataka/NNP\n",
      "  Chief/NNP\n",
      "  Minister/NNP\n",
      "  BS/NNP\n",
      "  Yediyurappa/NNP\n",
      "  said/VBD\n",
      "  he/PRP\n",
      "  tested/VBD\n",
      "  positive/JJ\n",
      "  for/IN\n",
      "  (NP the/DT novel/NN)\n",
      "  (NP coronavirus/NN)\n",
      "  according/VBG\n",
      "  to/TO\n",
      "  (NP a/DT tweet/NN)\n",
      "  he/PRP\n",
      "  posted/VBD\n",
      "  on/IN\n",
      "  Sunday/NNP\n",
      "  ./.\n",
      "  The/DT\n",
      "  Chief/JJ\n",
      "  Minister/NNP\n",
      "  ,/,\n",
      "  77/CD\n",
      "  ,/,\n",
      "  said/VBD\n",
      "  he/PRP\n",
      "  is/VBZ\n",
      "  fine/JJ\n",
      "  and/CC\n",
      "  is/VBZ\n",
      "  being/VBG\n",
      "  hospitalised/VBN\n",
      "  as/IN\n",
      "  (NP a/DT precaution/NN)\n",
      "  on/IN\n",
      "  (NP the/DT recommendation/NN)\n",
      "  of/IN\n",
      "  doctors/NNS\n",
      "  ./.\n",
      "  I/PRP\n",
      "  have/VBP\n",
      "  tested/VBN\n",
      "  positive/JJ\n",
      "  for/IN\n",
      "  (NP coronavirus/NN)\n",
      "  ./.\n",
      "  Whilst/NNP\n",
      "  I/PRP\n",
      "  am/VBP\n",
      "  fine/JJ\n",
      "  ,/,\n",
      "  I/PRP\n",
      "  am/VBP\n",
      "  being/VBG\n",
      "  hospitalised/VBN\n",
      "  as/IN\n",
      "  (NP a/DT precaution/NN)\n",
      "  on/IN\n",
      "  (NP the/DT recommendation/NN)\n",
      "  of/IN\n",
      "  doctors/NNS\n",
      "  ./.\n",
      "  I/PRP\n",
      "  request/VBP\n",
      "  those/DT\n",
      "  who/WP\n",
      "  have/VBP\n",
      "  come/VBN\n",
      "  in/IN\n",
      "  (NP contact/NN)\n",
      "  with/IN\n",
      "  me/PRP\n",
      "  recently/RB\n",
      "  to/TO\n",
      "  be/VB\n",
      "  observant/JJ\n",
      "  and/CC\n",
      "  (NP exercise/JJ self-quarantine/NN))\n"
     ]
    }
   ],
   "source": [
    "cp = nltk.RegexpParser(pattern)\n",
    "cs = cp.parse(sent)\n",
    "print(cs)"
   ]
  },
  {
   "cell_type": "code",
   "execution_count": null,
   "metadata": {},
   "outputs": [],
   "source": [
    "NPChunker = nltk.RegexpParser(pattern) \n",
    "result = NPChunker.parse(sent)\n",
    "result.draw()"
   ]
  },
  {
   "cell_type": "code",
   "execution_count": null,
   "metadata": {},
   "outputs": [],
   "source": [
    "from nltk.chunk import conlltags2tree, tree2conlltags\n",
    "from pprint import pprint\n",
    "\n",
    "iob_tagged = tree2conlltags(cs)\n",
    "pprint(iob_tagged)"
   ]
  },
  {
   "cell_type": "code",
   "execution_count": null,
   "metadata": {},
   "outputs": [],
   "source": [
    "import spacy\n",
    "from spacy import displacy\n",
    "from collections import Counter\n",
    "import en_core_web_sm\n",
    "nlp = en_core_web_sm.load()"
   ]
  },
  {
   "cell_type": "code",
   "execution_count": null,
   "metadata": {},
   "outputs": [],
   "source": [
    "doc = nlp('Bengaluru: Karnataka Chief Minister BS Yediyurappa said he tested positive for the novel coronavirus according to a tweet he posted on Sunday. The Chief Minister, 77, said he is fine and is being hospitalised as a precaution on the recommendation of doctors. I have tested positive for coronavirus. Whilst I am fine, I am being hospitalised as a precaution on the recommendation of doctors. I request those who have come in contact with me recently to be observant and exercise self-quarantine')\n",
    "pprint([(X.text, X.label_) for X in doc.ents])"
   ]
  },
  {
   "cell_type": "code",
   "execution_count": null,
   "metadata": {},
   "outputs": [],
   "source": [
    "pprint([(X, X.ent_iob_, X.ent_type_) for X in doc])"
   ]
  },
  {
   "cell_type": "code",
   "execution_count": null,
   "metadata": {},
   "outputs": [],
   "source": [
    "from bs4 import BeautifulSoup\n",
    "import requests\n",
    "import re"
   ]
  },
  {
   "cell_type": "code",
   "execution_count": null,
   "metadata": {},
   "outputs": [],
   "source": [
    "def url_to_string(url):\n",
    "    res = requests.get(url)\n",
    "    html = res.text\n",
    "    soup = BeautifulSoup(html, 'html5lib')\n",
    "    for script in soup([\"script\", \"style\", 'aside']):\n",
    "        script.extract()\n",
    "    return \" \".join(re.split(r'[\\n\\t]+', soup.get_text()))"
   ]
  },
  {
   "cell_type": "code",
   "execution_count": null,
   "metadata": {},
   "outputs": [],
   "source": [
    "ny_bb = url_to_string('https://www.nytimes.com/2018/08/13/us/politics/peter-strzok-fired-fbi.html?hp&action=click&pgtype=Homepage&clickSource=story-heading&module=first-column-region&region=top-news&WT.nav=top-news')\n",
    "article = nlp(ny_bb)\n",
    "len(article.ents)"
   ]
  },
  {
   "cell_type": "code",
   "execution_count": null,
   "metadata": {},
   "outputs": [],
   "source": [
    "labels = [x.label_ for x in article.ents]\n",
    "Counter(labels)"
   ]
  },
  {
   "cell_type": "code",
   "execution_count": null,
   "metadata": {},
   "outputs": [],
   "source": [
    "items = [x.text for x in article.ents]\n",
    "Counter(items).most_common(3)"
   ]
  },
  {
   "cell_type": "code",
   "execution_count": null,
   "metadata": {},
   "outputs": [],
   "source": []
  }
 ],
 "metadata": {
  "kernelspec": {
   "display_name": "Python 3",
   "language": "python",
   "name": "python3"
  },
  "language_info": {
   "codemirror_mode": {
    "name": "ipython",
    "version": 3
   },
   "file_extension": ".py",
   "mimetype": "text/x-python",
   "name": "python",
   "nbconvert_exporter": "python",
   "pygments_lexer": "ipython3",
   "version": "3.8.3"
  }
 },
 "nbformat": 4,
 "nbformat_minor": 4
}
